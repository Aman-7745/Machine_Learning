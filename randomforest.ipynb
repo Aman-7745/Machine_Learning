{
 "cells": [
  {
   "cell_type": "code",
   "execution_count": 1,
   "id": "f83a1ef9",
   "metadata": {
    "_cell_guid": "b1076dfc-b9ad-4769-8c92-a6c4dae69d19",
    "_uuid": "8f2839f25d086af736a60e9eeb907d3b93b6e0e5",
    "execution": {
     "iopub.execute_input": "2025-08-06T10:45:18.369368Z",
     "iopub.status.busy": "2025-08-06T10:45:18.368942Z",
     "iopub.status.idle": "2025-08-06T10:45:20.512874Z",
     "shell.execute_reply": "2025-08-06T10:45:20.511887Z"
    },
    "papermill": {
     "duration": 2.153903,
     "end_time": "2025-08-06T10:45:20.514867",
     "exception": false,
     "start_time": "2025-08-06T10:45:18.360964",
     "status": "completed"
    },
    "tags": []
   },
   "outputs": [],
   "source": [
    "# This Python 3 environment comes with many helpful analytics libraries installed\n",
    "# It is defined by the kaggle/python Docker image: https://github.com/kaggle/docker-python\n",
    "# For example, here's several helpful packages to load\n",
    "\n",
    "import numpy as np # linear algebra\n",
    "import pandas as pd # data processing, CSV file I/O (e.g. pd.read_csv)\n",
    "\n",
    "# Input data files are available in the read-only \"../input/\" directory\n",
    "# For example, running this (by clicking run or pressing Shift+Enter) will list all files under the input directory\n",
    "\n",
    "import os\n",
    "for dirname, _, filenames in os.walk('/kaggle/input'):\n",
    "    for filename in filenames:\n",
    "        print(os.path.join(dirname, filename))\n",
    "\n",
    "# You can write up to 20GB to the current directory (/kaggle/working/) that gets preserved as output when you create a version using \"Save & Run All\" \n",
    "# You can also write temporary files to /kaggle/temp/, but they won't be saved outside of the current session"
   ]
  },
  {
   "cell_type": "code",
   "execution_count": 2,
   "id": "a61de019",
   "metadata": {
    "execution": {
     "iopub.execute_input": "2025-08-06T10:45:20.526728Z",
     "iopub.status.busy": "2025-08-06T10:45:20.526180Z",
     "iopub.status.idle": "2025-08-06T10:45:22.377072Z",
     "shell.execute_reply": "2025-08-06T10:45:22.375841Z"
    },
    "papermill": {
     "duration": 1.8587,
     "end_time": "2025-08-06T10:45:22.378805",
     "exception": false,
     "start_time": "2025-08-06T10:45:20.520105",
     "status": "completed"
    },
    "tags": []
   },
   "outputs": [],
   "source": [
    "import numpy as np\n",
    "import pandas as pd\n",
    "import random\n",
    "from sklearn.datasets import make_classification"
   ]
  },
  {
   "cell_type": "code",
   "execution_count": 3,
   "id": "b3d1df88",
   "metadata": {
    "execution": {
     "iopub.execute_input": "2025-08-06T10:45:22.390378Z",
     "iopub.status.busy": "2025-08-06T10:45:22.389875Z",
     "iopub.status.idle": "2025-08-06T10:45:22.413239Z",
     "shell.execute_reply": "2025-08-06T10:45:22.412211Z"
    },
    "papermill": {
     "duration": 0.031276,
     "end_time": "2025-08-06T10:45:22.415069",
     "exception": false,
     "start_time": "2025-08-06T10:45:22.383793",
     "status": "completed"
    },
    "tags": []
   },
   "outputs": [],
   "source": [
    "  X,y = make_classification(n_features =5, n_redundant =0, n_informative = 5,n_clusters_per_class =1)\n"
   ]
  },
  {
   "cell_type": "code",
   "execution_count": 4,
   "id": "2ac3c5fb",
   "metadata": {
    "execution": {
     "iopub.execute_input": "2025-08-06T10:45:22.426332Z",
     "iopub.status.busy": "2025-08-06T10:45:22.425956Z",
     "iopub.status.idle": "2025-08-06T10:45:22.462106Z",
     "shell.execute_reply": "2025-08-06T10:45:22.461156Z"
    },
    "papermill": {
     "duration": 0.043686,
     "end_time": "2025-08-06T10:45:22.463627",
     "exception": false,
     "start_time": "2025-08-06T10:45:22.419941",
     "status": "completed"
    },
    "tags": []
   },
   "outputs": [
    {
     "name": "stdout",
     "output_type": "stream",
     "text": [
      "(100, 6)\n"
     ]
    },
    {
     "data": {
      "text/html": [
       "<div>\n",
       "<style scoped>\n",
       "    .dataframe tbody tr th:only-of-type {\n",
       "        vertical-align: middle;\n",
       "    }\n",
       "\n",
       "    .dataframe tbody tr th {\n",
       "        vertical-align: top;\n",
       "    }\n",
       "\n",
       "    .dataframe thead th {\n",
       "        text-align: right;\n",
       "    }\n",
       "</style>\n",
       "<table border=\"1\" class=\"dataframe\">\n",
       "  <thead>\n",
       "    <tr style=\"text-align: right;\">\n",
       "      <th></th>\n",
       "      <th>Col1</th>\n",
       "      <th>Col2</th>\n",
       "      <th>Col3</th>\n",
       "      <th>Col4</th>\n",
       "      <th>Col5</th>\n",
       "      <th>target</th>\n",
       "    </tr>\n",
       "  </thead>\n",
       "  <tbody>\n",
       "    <tr>\n",
       "      <th>0</th>\n",
       "      <td>-0.705494</td>\n",
       "      <td>0.383934</td>\n",
       "      <td>0.913205</td>\n",
       "      <td>-0.183762</td>\n",
       "      <td>-0.415291</td>\n",
       "      <td>0</td>\n",
       "    </tr>\n",
       "    <tr>\n",
       "      <th>1</th>\n",
       "      <td>-1.163616</td>\n",
       "      <td>-0.125230</td>\n",
       "      <td>0.581041</td>\n",
       "      <td>-1.436042</td>\n",
       "      <td>1.439114</td>\n",
       "      <td>1</td>\n",
       "    </tr>\n",
       "    <tr>\n",
       "      <th>2</th>\n",
       "      <td>-1.893364</td>\n",
       "      <td>-0.020293</td>\n",
       "      <td>0.527120</td>\n",
       "      <td>-1.481096</td>\n",
       "      <td>-2.773359</td>\n",
       "      <td>1</td>\n",
       "    </tr>\n",
       "    <tr>\n",
       "      <th>3</th>\n",
       "      <td>-0.019812</td>\n",
       "      <td>-0.680835</td>\n",
       "      <td>0.324093</td>\n",
       "      <td>2.035916</td>\n",
       "      <td>-0.806108</td>\n",
       "      <td>0</td>\n",
       "    </tr>\n",
       "    <tr>\n",
       "      <th>4</th>\n",
       "      <td>1.443701</td>\n",
       "      <td>-3.485236</td>\n",
       "      <td>1.704729</td>\n",
       "      <td>-0.926113</td>\n",
       "      <td>1.416262</td>\n",
       "      <td>1</td>\n",
       "    </tr>\n",
       "  </tbody>\n",
       "</table>\n",
       "</div>"
      ],
      "text/plain": [
       "       Col1      Col2      Col3      Col4      Col5  target\n",
       "0 -0.705494  0.383934  0.913205 -0.183762 -0.415291       0\n",
       "1 -1.163616 -0.125230  0.581041 -1.436042  1.439114       1\n",
       "2 -1.893364 -0.020293  0.527120 -1.481096 -2.773359       1\n",
       "3 -0.019812 -0.680835  0.324093  2.035916 -0.806108       0\n",
       "4  1.443701 -3.485236  1.704729 -0.926113  1.416262       1"
      ]
     },
     "execution_count": 4,
     "metadata": {},
     "output_type": "execute_result"
    }
   ],
   "source": [
    "df = pd.DataFrame(X,columns = ['Col1','Col2','Col3','Col4','Col5'])\n",
    "df ['target'] = y\n",
    "print(df.shape)\n",
    "df.head()"
   ]
  },
  {
   "cell_type": "code",
   "execution_count": 5,
   "id": "bb5712ca",
   "metadata": {
    "execution": {
     "iopub.execute_input": "2025-08-06T10:45:22.475676Z",
     "iopub.status.busy": "2025-08-06T10:45:22.475250Z",
     "iopub.status.idle": "2025-08-06T10:45:22.481563Z",
     "shell.execute_reply": "2025-08-06T10:45:22.480711Z"
    },
    "papermill": {
     "duration": 0.013954,
     "end_time": "2025-08-06T10:45:22.482945",
     "exception": false,
     "start_time": "2025-08-06T10:45:22.468991",
     "status": "completed"
    },
    "tags": []
   },
   "outputs": [
    {
     "data": {
      "text/plain": [
       "100"
      ]
     },
     "execution_count": 5,
     "metadata": {},
     "output_type": "execute_result"
    }
   ],
   "source": [
    "df.shape[0]"
   ]
  },
  {
   "cell_type": "markdown",
   "id": "742e0aa2",
   "metadata": {
    "papermill": {
     "duration": 0.004998,
     "end_time": "2025-08-06T10:45:22.493201",
     "exception": false,
     "start_time": "2025-08-06T10:45:22.488203",
     "status": "completed"
    },
    "tags": []
   },
   "source": [
    "# functions for row sampling"
   ]
  },
  {
   "cell_type": "code",
   "execution_count": 6,
   "id": "762245ba",
   "metadata": {
    "execution": {
     "iopub.execute_input": "2025-08-06T10:45:22.505925Z",
     "iopub.status.busy": "2025-08-06T10:45:22.505074Z",
     "iopub.status.idle": "2025-08-06T10:45:22.510053Z",
     "shell.execute_reply": "2025-08-06T10:45:22.509176Z"
    },
    "papermill": {
     "duration": 0.013156,
     "end_time": "2025-08-06T10:45:22.511497",
     "exception": false,
     "start_time": "2025-08-06T10:45:22.498341",
     "status": "completed"
    },
    "tags": []
   },
   "outputs": [],
   "source": [
    "def sample_rows(df,percentage):\n",
    "    return df.sample(int(percentage*df.shape[0]),replace=True)"
   ]
  },
  {
   "cell_type": "markdown",
   "id": "dc625f48",
   "metadata": {
    "papermill": {
     "duration": 0.005375,
     "end_time": "2025-08-06T10:45:22.522102",
     "exception": false,
     "start_time": "2025-08-06T10:45:22.516727",
     "status": "completed"
    },
    "tags": []
   },
   "source": [
    "functions for feature sampling"
   ]
  },
  {
   "cell_type": "code",
   "execution_count": 7,
   "id": "841bd2ee",
   "metadata": {
    "execution": {
     "iopub.execute_input": "2025-08-06T10:45:22.534479Z",
     "iopub.status.busy": "2025-08-06T10:45:22.534119Z",
     "iopub.status.idle": "2025-08-06T10:45:22.539254Z",
     "shell.execute_reply": "2025-08-06T10:45:22.538488Z"
    },
    "papermill": {
     "duration": 0.01361,
     "end_time": "2025-08-06T10:45:22.540851",
     "exception": false,
     "start_time": "2025-08-06T10:45:22.527241",
     "status": "completed"
    },
    "tags": []
   },
   "outputs": [],
   "source": [
    "# function for feature sampling\n",
    "def sample_features(df,percent):\n",
    "  cols = random.sample(df.columns.tolist()[:-1],int(percent*(df.shape[1]-1)))\n",
    "  new_df = df[cols]\n",
    "  new_df['target'] = df['target']\n",
    "  return new_df"
   ]
  },
  {
   "cell_type": "markdown",
   "id": "ce8c6a7d",
   "metadata": {
    "papermill": {
     "duration": 0.004888,
     "end_time": "2025-08-06T10:45:22.551616",
     "exception": false,
     "start_time": "2025-08-06T10:45:22.546728",
     "status": "completed"
    },
    "tags": []
   },
   "source": [
    "functions for Combined sampling"
   ]
  },
  {
   "cell_type": "code",
   "execution_count": 8,
   "id": "6d6ccc25",
   "metadata": {
    "execution": {
     "iopub.execute_input": "2025-08-06T10:45:22.563782Z",
     "iopub.status.busy": "2025-08-06T10:45:22.563449Z",
     "iopub.status.idle": "2025-08-06T10:45:22.568438Z",
     "shell.execute_reply": "2025-08-06T10:45:22.567492Z"
    },
    "papermill": {
     "duration": 0.013398,
     "end_time": "2025-08-06T10:45:22.570099",
     "exception": false,
     "start_time": "2025-08-06T10:45:22.556701",
     "status": "completed"
    },
    "tags": []
   },
   "outputs": [],
   "source": [
    "def combined_sampling(df , row_percent, column_percent):\n",
    "    new_df = sample_rows (df, row_percent)\n",
    "    return sample_features(new_df, column_percent)\n"
   ]
  },
  {
   "cell_type": "code",
   "execution_count": 9,
   "id": "92e5ca75",
   "metadata": {
    "execution": {
     "iopub.execute_input": "2025-08-06T10:45:22.581496Z",
     "iopub.status.busy": "2025-08-06T10:45:22.581133Z",
     "iopub.status.idle": "2025-08-06T10:45:22.595274Z",
     "shell.execute_reply": "2025-08-06T10:45:22.594239Z"
    },
    "papermill": {
     "duration": 0.021621,
     "end_time": "2025-08-06T10:45:22.596843",
     "exception": false,
     "start_time": "2025-08-06T10:45:22.575222",
     "status": "completed"
    },
    "tags": []
   },
   "outputs": [
    {
     "name": "stderr",
     "output_type": "stream",
     "text": [
      "/tmp/ipykernel_13/3275485051.py:5: SettingWithCopyWarning: \n",
      "A value is trying to be set on a copy of a slice from a DataFrame.\n",
      "Try using .loc[row_indexer,col_indexer] = value instead\n",
      "\n",
      "See the caveats in the documentation: https://pandas.pydata.org/pandas-docs/stable/user_guide/indexing.html#returning-a-view-versus-a-copy\n",
      "  new_df['target'] = df['target']\n"
     ]
    }
   ],
   "source": [
    "df1 = combined_sampling(df,0.5,0.5)"
   ]
  },
  {
   "cell_type": "code",
   "execution_count": 10,
   "id": "7d69ba3d",
   "metadata": {
    "execution": {
     "iopub.execute_input": "2025-08-06T10:45:22.609024Z",
     "iopub.status.busy": "2025-08-06T10:45:22.608692Z",
     "iopub.status.idle": "2025-08-06T10:45:22.616687Z",
     "shell.execute_reply": "2025-08-06T10:45:22.615566Z"
    },
    "papermill": {
     "duration": 0.015944,
     "end_time": "2025-08-06T10:45:22.618199",
     "exception": false,
     "start_time": "2025-08-06T10:45:22.602255",
     "status": "completed"
    },
    "tags": []
   },
   "outputs": [
    {
     "name": "stderr",
     "output_type": "stream",
     "text": [
      "/tmp/ipykernel_13/3275485051.py:5: SettingWithCopyWarning: \n",
      "A value is trying to be set on a copy of a slice from a DataFrame.\n",
      "Try using .loc[row_indexer,col_indexer] = value instead\n",
      "\n",
      "See the caveats in the documentation: https://pandas.pydata.org/pandas-docs/stable/user_guide/indexing.html#returning-a-view-versus-a-copy\n",
      "  new_df['target'] = df['target']\n"
     ]
    }
   ],
   "source": [
    "df2 = combined_sampling(df,.5,.5)"
   ]
  },
  {
   "cell_type": "code",
   "execution_count": 11,
   "id": "c3d91315",
   "metadata": {
    "execution": {
     "iopub.execute_input": "2025-08-06T10:45:22.631171Z",
     "iopub.status.busy": "2025-08-06T10:45:22.630893Z",
     "iopub.status.idle": "2025-08-06T10:45:22.638583Z",
     "shell.execute_reply": "2025-08-06T10:45:22.637519Z"
    },
    "papermill": {
     "duration": 0.016313,
     "end_time": "2025-08-06T10:45:22.640420",
     "exception": false,
     "start_time": "2025-08-06T10:45:22.624107",
     "status": "completed"
    },
    "tags": []
   },
   "outputs": [
    {
     "name": "stderr",
     "output_type": "stream",
     "text": [
      "/tmp/ipykernel_13/3275485051.py:5: SettingWithCopyWarning: \n",
      "A value is trying to be set on a copy of a slice from a DataFrame.\n",
      "Try using .loc[row_indexer,col_indexer] = value instead\n",
      "\n",
      "See the caveats in the documentation: https://pandas.pydata.org/pandas-docs/stable/user_guide/indexing.html#returning-a-view-versus-a-copy\n",
      "  new_df['target'] = df['target']\n"
     ]
    }
   ],
   "source": [
    "df3 = combined_sampling(df,.5,.5)"
   ]
  },
  {
   "cell_type": "code",
   "execution_count": 12,
   "id": "01590403",
   "metadata": {
    "execution": {
     "iopub.execute_input": "2025-08-06T10:45:22.652571Z",
     "iopub.status.busy": "2025-08-06T10:45:22.652175Z",
     "iopub.status.idle": "2025-08-06T10:45:22.658005Z",
     "shell.execute_reply": "2025-08-06T10:45:22.656867Z"
    },
    "papermill": {
     "duration": 0.013434,
     "end_time": "2025-08-06T10:45:22.659521",
     "exception": false,
     "start_time": "2025-08-06T10:45:22.646087",
     "status": "completed"
    },
    "tags": []
   },
   "outputs": [
    {
     "name": "stdout",
     "output_type": "stream",
     "text": [
      "Index(['Col3', 'Col4', 'target'], dtype='object')\n",
      "Index(['Col3', 'Col1', 'target'], dtype='object')\n",
      "Index(['Col2', 'Col4', 'target'], dtype='object')\n"
     ]
    }
   ],
   "source": [
    "print(df1.columns)\n",
    "print(df2.columns)\n",
    "print(df3.columns)\n"
   ]
  },
  {
   "cell_type": "code",
   "execution_count": 13,
   "id": "0acc7bee",
   "metadata": {
    "execution": {
     "iopub.execute_input": "2025-08-06T10:45:22.672378Z",
     "iopub.status.busy": "2025-08-06T10:45:22.672033Z",
     "iopub.status.idle": "2025-08-06T10:45:22.676324Z",
     "shell.execute_reply": "2025-08-06T10:45:22.675331Z"
    },
    "papermill": {
     "duration": 0.012253,
     "end_time": "2025-08-06T10:45:22.677967",
     "exception": false,
     "start_time": "2025-08-06T10:45:22.665714",
     "status": "completed"
    },
    "tags": []
   },
   "outputs": [],
   "source": [
    "#df3"
   ]
  },
  {
   "cell_type": "code",
   "execution_count": 14,
   "id": "047498ca",
   "metadata": {
    "execution": {
     "iopub.execute_input": "2025-08-06T10:45:22.690214Z",
     "iopub.status.busy": "2025-08-06T10:45:22.689898Z",
     "iopub.status.idle": "2025-08-06T10:45:23.113483Z",
     "shell.execute_reply": "2025-08-06T10:45:23.112523Z"
    },
    "papermill": {
     "duration": 0.431819,
     "end_time": "2025-08-06T10:45:23.115380",
     "exception": false,
     "start_time": "2025-08-06T10:45:22.683561",
     "status": "completed"
    },
    "tags": []
   },
   "outputs": [],
   "source": [
    "from sklearn.tree import DecisionTreeClassifier\n",
    "clf1 = DecisionTreeClassifier()\n",
    "clf2 = DecisionTreeClassifier()\n",
    "clf3=  DecisionTreeClassifier()\n",
    "\n"
   ]
  },
  {
   "cell_type": "code",
   "execution_count": 15,
   "id": "bb2d9ecf",
   "metadata": {
    "execution": {
     "iopub.execute_input": "2025-08-06T10:45:23.128033Z",
     "iopub.status.busy": "2025-08-06T10:45:23.127728Z",
     "iopub.status.idle": "2025-08-06T10:45:23.142308Z",
     "shell.execute_reply": "2025-08-06T10:45:23.141515Z"
    },
    "papermill": {
     "duration": 0.022853,
     "end_time": "2025-08-06T10:45:23.143994",
     "exception": false,
     "start_time": "2025-08-06T10:45:23.121141",
     "status": "completed"
    },
    "tags": []
   },
   "outputs": [
    {
     "data": {
      "text/html": [
       "<style>#sk-container-id-1 {color: black;background-color: white;}#sk-container-id-1 pre{padding: 0;}#sk-container-id-1 div.sk-toggleable {background-color: white;}#sk-container-id-1 label.sk-toggleable__label {cursor: pointer;display: block;width: 100%;margin-bottom: 0;padding: 0.3em;box-sizing: border-box;text-align: center;}#sk-container-id-1 label.sk-toggleable__label-arrow:before {content: \"▸\";float: left;margin-right: 0.25em;color: #696969;}#sk-container-id-1 label.sk-toggleable__label-arrow:hover:before {color: black;}#sk-container-id-1 div.sk-estimator:hover label.sk-toggleable__label-arrow:before {color: black;}#sk-container-id-1 div.sk-toggleable__content {max-height: 0;max-width: 0;overflow: hidden;text-align: left;background-color: #f0f8ff;}#sk-container-id-1 div.sk-toggleable__content pre {margin: 0.2em;color: black;border-radius: 0.25em;background-color: #f0f8ff;}#sk-container-id-1 input.sk-toggleable__control:checked~div.sk-toggleable__content {max-height: 200px;max-width: 100%;overflow: auto;}#sk-container-id-1 input.sk-toggleable__control:checked~label.sk-toggleable__label-arrow:before {content: \"▾\";}#sk-container-id-1 div.sk-estimator input.sk-toggleable__control:checked~label.sk-toggleable__label {background-color: #d4ebff;}#sk-container-id-1 div.sk-label input.sk-toggleable__control:checked~label.sk-toggleable__label {background-color: #d4ebff;}#sk-container-id-1 input.sk-hidden--visually {border: 0;clip: rect(1px 1px 1px 1px);clip: rect(1px, 1px, 1px, 1px);height: 1px;margin: -1px;overflow: hidden;padding: 0;position: absolute;width: 1px;}#sk-container-id-1 div.sk-estimator {font-family: monospace;background-color: #f0f8ff;border: 1px dotted black;border-radius: 0.25em;box-sizing: border-box;margin-bottom: 0.5em;}#sk-container-id-1 div.sk-estimator:hover {background-color: #d4ebff;}#sk-container-id-1 div.sk-parallel-item::after {content: \"\";width: 100%;border-bottom: 1px solid gray;flex-grow: 1;}#sk-container-id-1 div.sk-label:hover label.sk-toggleable__label {background-color: #d4ebff;}#sk-container-id-1 div.sk-serial::before {content: \"\";position: absolute;border-left: 1px solid gray;box-sizing: border-box;top: 0;bottom: 0;left: 50%;z-index: 0;}#sk-container-id-1 div.sk-serial {display: flex;flex-direction: column;align-items: center;background-color: white;padding-right: 0.2em;padding-left: 0.2em;position: relative;}#sk-container-id-1 div.sk-item {position: relative;z-index: 1;}#sk-container-id-1 div.sk-parallel {display: flex;align-items: stretch;justify-content: center;background-color: white;position: relative;}#sk-container-id-1 div.sk-item::before, #sk-container-id-1 div.sk-parallel-item::before {content: \"\";position: absolute;border-left: 1px solid gray;box-sizing: border-box;top: 0;bottom: 0;left: 50%;z-index: -1;}#sk-container-id-1 div.sk-parallel-item {display: flex;flex-direction: column;z-index: 1;position: relative;background-color: white;}#sk-container-id-1 div.sk-parallel-item:first-child::after {align-self: flex-end;width: 50%;}#sk-container-id-1 div.sk-parallel-item:last-child::after {align-self: flex-start;width: 50%;}#sk-container-id-1 div.sk-parallel-item:only-child::after {width: 0;}#sk-container-id-1 div.sk-dashed-wrapped {border: 1px dashed gray;margin: 0 0.4em 0.5em 0.4em;box-sizing: border-box;padding-bottom: 0.4em;background-color: white;}#sk-container-id-1 div.sk-label label {font-family: monospace;font-weight: bold;display: inline-block;line-height: 1.2em;}#sk-container-id-1 div.sk-label-container {text-align: center;}#sk-container-id-1 div.sk-container {/* jupyter's `normalize.less` sets `[hidden] { display: none; }` but bootstrap.min.css set `[hidden] { display: none !important; }` so we also need the `!important` here to be able to override the default hidden behavior on the sphinx rendered scikit-learn.org. See: https://github.com/scikit-learn/scikit-learn/issues/21755 */display: inline-block !important;position: relative;}#sk-container-id-1 div.sk-text-repr-fallback {display: none;}</style><div id=\"sk-container-id-1\" class=\"sk-top-container\"><div class=\"sk-text-repr-fallback\"><pre>DecisionTreeClassifier()</pre><b>In a Jupyter environment, please rerun this cell to show the HTML representation or trust the notebook. <br />On GitHub, the HTML representation is unable to render, please try loading this page with nbviewer.org.</b></div><div class=\"sk-container\" hidden><div class=\"sk-item\"><div class=\"sk-estimator sk-toggleable\"><input class=\"sk-toggleable__control sk-hidden--visually\" id=\"sk-estimator-id-1\" type=\"checkbox\" checked><label for=\"sk-estimator-id-1\" class=\"sk-toggleable__label sk-toggleable__label-arrow\">DecisionTreeClassifier</label><div class=\"sk-toggleable__content\"><pre>DecisionTreeClassifier()</pre></div></div></div></div></div>"
      ],
      "text/plain": [
       "DecisionTreeClassifier()"
      ]
     },
     "execution_count": 15,
     "metadata": {},
     "output_type": "execute_result"
    }
   ],
   "source": [
    "#clf1.fit(df1.iloc[:, 0:2], df1.iloc[:, -1].values.ravel())\n",
    "# or\n",
    "clf1.fit(df1.iloc[:, 0:2], df1.iloc[:, -1].squeeze())\n"
   ]
  },
  {
   "cell_type": "code",
   "execution_count": 16,
   "id": "c4ae6f70",
   "metadata": {
    "execution": {
     "iopub.execute_input": "2025-08-06T10:45:23.156740Z",
     "iopub.status.busy": "2025-08-06T10:45:23.156436Z",
     "iopub.status.idle": "2025-08-06T10:45:23.170799Z",
     "shell.execute_reply": "2025-08-06T10:45:23.169740Z"
    },
    "papermill": {
     "duration": 0.022348,
     "end_time": "2025-08-06T10:45:23.172270",
     "exception": false,
     "start_time": "2025-08-06T10:45:23.149922",
     "status": "completed"
    },
    "tags": []
   },
   "outputs": [
    {
     "data": {
      "text/html": [
       "<style>#sk-container-id-2 {color: black;background-color: white;}#sk-container-id-2 pre{padding: 0;}#sk-container-id-2 div.sk-toggleable {background-color: white;}#sk-container-id-2 label.sk-toggleable__label {cursor: pointer;display: block;width: 100%;margin-bottom: 0;padding: 0.3em;box-sizing: border-box;text-align: center;}#sk-container-id-2 label.sk-toggleable__label-arrow:before {content: \"▸\";float: left;margin-right: 0.25em;color: #696969;}#sk-container-id-2 label.sk-toggleable__label-arrow:hover:before {color: black;}#sk-container-id-2 div.sk-estimator:hover label.sk-toggleable__label-arrow:before {color: black;}#sk-container-id-2 div.sk-toggleable__content {max-height: 0;max-width: 0;overflow: hidden;text-align: left;background-color: #f0f8ff;}#sk-container-id-2 div.sk-toggleable__content pre {margin: 0.2em;color: black;border-radius: 0.25em;background-color: #f0f8ff;}#sk-container-id-2 input.sk-toggleable__control:checked~div.sk-toggleable__content {max-height: 200px;max-width: 100%;overflow: auto;}#sk-container-id-2 input.sk-toggleable__control:checked~label.sk-toggleable__label-arrow:before {content: \"▾\";}#sk-container-id-2 div.sk-estimator input.sk-toggleable__control:checked~label.sk-toggleable__label {background-color: #d4ebff;}#sk-container-id-2 div.sk-label input.sk-toggleable__control:checked~label.sk-toggleable__label {background-color: #d4ebff;}#sk-container-id-2 input.sk-hidden--visually {border: 0;clip: rect(1px 1px 1px 1px);clip: rect(1px, 1px, 1px, 1px);height: 1px;margin: -1px;overflow: hidden;padding: 0;position: absolute;width: 1px;}#sk-container-id-2 div.sk-estimator {font-family: monospace;background-color: #f0f8ff;border: 1px dotted black;border-radius: 0.25em;box-sizing: border-box;margin-bottom: 0.5em;}#sk-container-id-2 div.sk-estimator:hover {background-color: #d4ebff;}#sk-container-id-2 div.sk-parallel-item::after {content: \"\";width: 100%;border-bottom: 1px solid gray;flex-grow: 1;}#sk-container-id-2 div.sk-label:hover label.sk-toggleable__label {background-color: #d4ebff;}#sk-container-id-2 div.sk-serial::before {content: \"\";position: absolute;border-left: 1px solid gray;box-sizing: border-box;top: 0;bottom: 0;left: 50%;z-index: 0;}#sk-container-id-2 div.sk-serial {display: flex;flex-direction: column;align-items: center;background-color: white;padding-right: 0.2em;padding-left: 0.2em;position: relative;}#sk-container-id-2 div.sk-item {position: relative;z-index: 1;}#sk-container-id-2 div.sk-parallel {display: flex;align-items: stretch;justify-content: center;background-color: white;position: relative;}#sk-container-id-2 div.sk-item::before, #sk-container-id-2 div.sk-parallel-item::before {content: \"\";position: absolute;border-left: 1px solid gray;box-sizing: border-box;top: 0;bottom: 0;left: 50%;z-index: -1;}#sk-container-id-2 div.sk-parallel-item {display: flex;flex-direction: column;z-index: 1;position: relative;background-color: white;}#sk-container-id-2 div.sk-parallel-item:first-child::after {align-self: flex-end;width: 50%;}#sk-container-id-2 div.sk-parallel-item:last-child::after {align-self: flex-start;width: 50%;}#sk-container-id-2 div.sk-parallel-item:only-child::after {width: 0;}#sk-container-id-2 div.sk-dashed-wrapped {border: 1px dashed gray;margin: 0 0.4em 0.5em 0.4em;box-sizing: border-box;padding-bottom: 0.4em;background-color: white;}#sk-container-id-2 div.sk-label label {font-family: monospace;font-weight: bold;display: inline-block;line-height: 1.2em;}#sk-container-id-2 div.sk-label-container {text-align: center;}#sk-container-id-2 div.sk-container {/* jupyter's `normalize.less` sets `[hidden] { display: none; }` but bootstrap.min.css set `[hidden] { display: none !important; }` so we also need the `!important` here to be able to override the default hidden behavior on the sphinx rendered scikit-learn.org. See: https://github.com/scikit-learn/scikit-learn/issues/21755 */display: inline-block !important;position: relative;}#sk-container-id-2 div.sk-text-repr-fallback {display: none;}</style><div id=\"sk-container-id-2\" class=\"sk-top-container\"><div class=\"sk-text-repr-fallback\"><pre>DecisionTreeClassifier()</pre><b>In a Jupyter environment, please rerun this cell to show the HTML representation or trust the notebook. <br />On GitHub, the HTML representation is unable to render, please try loading this page with nbviewer.org.</b></div><div class=\"sk-container\" hidden><div class=\"sk-item\"><div class=\"sk-estimator sk-toggleable\"><input class=\"sk-toggleable__control sk-hidden--visually\" id=\"sk-estimator-id-2\" type=\"checkbox\" checked><label for=\"sk-estimator-id-2\" class=\"sk-toggleable__label sk-toggleable__label-arrow\">DecisionTreeClassifier</label><div class=\"sk-toggleable__content\"><pre>DecisionTreeClassifier()</pre></div></div></div></div></div>"
      ],
      "text/plain": [
       "DecisionTreeClassifier()"
      ]
     },
     "execution_count": 16,
     "metadata": {},
     "output_type": "execute_result"
    }
   ],
   "source": [
    "clf1.fit(df1.iloc[:,0:2],df1.iloc[:,-1])\n",
    "clf2.fit(df2.iloc[:,0:2],df2.iloc[:,-1])\n",
    "clf3.fit(df3.iloc[:,0:2],df3.iloc[:,-1])"
   ]
  },
  {
   "cell_type": "code",
   "execution_count": 17,
   "id": "4dc034bf",
   "metadata": {
    "execution": {
     "iopub.execute_input": "2025-08-06T10:45:23.185264Z",
     "iopub.status.busy": "2025-08-06T10:45:23.184944Z",
     "iopub.status.idle": "2025-08-06T10:45:23.189213Z",
     "shell.execute_reply": "2025-08-06T10:45:23.188435Z"
    },
    "papermill": {
     "duration": 0.012623,
     "end_time": "2025-08-06T10:45:23.190745",
     "exception": false,
     "start_time": "2025-08-06T10:45:23.178122",
     "status": "completed"
    },
    "tags": []
   },
   "outputs": [],
   "source": [
    "from sklearn.tree import plot_tree"
   ]
  },
  {
   "cell_type": "code",
   "execution_count": 18,
   "id": "38bf60c3",
   "metadata": {
    "execution": {
     "iopub.execute_input": "2025-08-06T10:45:23.203190Z",
     "iopub.status.busy": "2025-08-06T10:45:23.202905Z",
     "iopub.status.idle": "2025-08-06T10:45:24.155893Z",
     "shell.execute_reply": "2025-08-06T10:45:24.155097Z"
    },
    "papermill": {
     "duration": 0.961163,
     "end_time": "2025-08-06T10:45:24.157509",
     "exception": false,
     "start_time": "2025-08-06T10:45:23.196346",
     "status": "completed"
    },
    "tags": []
   },
   "outputs": [
    {
     "data": {
      "text/plain": [
       "[Text(0.5, 0.9, 'x[1] <= -0.213\\ngini = 0.471\\nsamples = 50\\nvalue = [31, 19]'),\n",
       " Text(0.25, 0.7, 'x[0] <= -0.753\\ngini = 0.32\\nsamples = 20\\nvalue = [4, 16]'),\n",
       " Text(0.125, 0.5, 'x[0] <= -1.38\\ngini = 0.375\\nsamples = 4\\nvalue = [3, 1]'),\n",
       " Text(0.0625, 0.3, 'gini = 0.0\\nsamples = 2\\nvalue = [2, 0]'),\n",
       " Text(0.1875, 0.3, 'x[1] <= -0.767\\ngini = 0.5\\nsamples = 2\\nvalue = [1, 1]'),\n",
       " Text(0.125, 0.1, 'gini = 0.0\\nsamples = 1\\nvalue = [0, 1]'),\n",
       " Text(0.25, 0.1, 'gini = 0.0\\nsamples = 1\\nvalue = [1, 0]'),\n",
       " Text(0.375, 0.5, 'x[0] <= 1.445\\ngini = 0.117\\nsamples = 16\\nvalue = [1, 15]'),\n",
       " Text(0.3125, 0.3, 'gini = 0.0\\nsamples = 11\\nvalue = [0, 11]'),\n",
       " Text(0.4375, 0.3, 'x[0] <= 1.533\\ngini = 0.32\\nsamples = 5\\nvalue = [1, 4]'),\n",
       " Text(0.375, 0.1, 'gini = 0.0\\nsamples = 1\\nvalue = [1, 0]'),\n",
       " Text(0.5, 0.1, 'gini = 0.0\\nsamples = 4\\nvalue = [0, 4]'),\n",
       " Text(0.75, 0.7, 'x[0] <= -0.114\\ngini = 0.18\\nsamples = 30\\nvalue = [27, 3]'),\n",
       " Text(0.625, 0.5, 'x[0] <= -0.521\\ngini = 0.5\\nsamples = 4\\nvalue = [2, 2]'),\n",
       " Text(0.5625, 0.3, 'gini = 0.0\\nsamples = 2\\nvalue = [2, 0]'),\n",
       " Text(0.6875, 0.3, 'gini = 0.0\\nsamples = 2\\nvalue = [0, 2]'),\n",
       " Text(0.875, 0.5, 'x[1] <= 0.175\\ngini = 0.074\\nsamples = 26\\nvalue = [25, 1]'),\n",
       " Text(0.8125, 0.3, 'x[1] <= 0.032\\ngini = 0.444\\nsamples = 3\\nvalue = [2, 1]'),\n",
       " Text(0.75, 0.1, 'gini = 0.0\\nsamples = 2\\nvalue = [2, 0]'),\n",
       " Text(0.875, 0.1, 'gini = 0.0\\nsamples = 1\\nvalue = [0, 1]'),\n",
       " Text(0.9375, 0.3, 'gini = 0.0\\nsamples = 23\\nvalue = [23, 0]')]"
      ]
     },
     "execution_count": 18,
     "metadata": {},
     "output_type": "execute_result"
    },
    {
     "data": {
      "image/png": "[encoded data removed]",
      "text/plain": [
       "<Figure size 640x480 with 1 Axes>"
      ]
     },
     "metadata": {},
     "output_type": "display_data"
    }
   ],
   "source": [
    "plot_tree(clf1)"
   ]
  },
  {
   "cell_type": "code",
   "execution_count": 19,
   "id": "8be197d9",
   "metadata": {
    "execution": {
     "iopub.execute_input": "2025-08-06T10:45:24.171621Z",
     "iopub.status.busy": "2025-08-06T10:45:24.171285Z",
     "iopub.status.idle": "2025-08-06T10:45:25.228268Z",
     "shell.execute_reply": "2025-08-06T10:45:25.227278Z"
    },
    "papermill": {
     "duration": 1.065838,
     "end_time": "2025-08-06T10:45:25.229865",
     "exception": false,
     "start_time": "2025-08-06T10:45:24.164027",
     "status": "completed"
    },
    "tags": []
   },
   "outputs": [
    {
     "data": {
      "text/plain": [
       "[Text(0.5, 0.9545454545454546, 'x[1] <= 1.464\\ngini = 0.487\\nsamples = 50\\nvalue = [21, 29]'),\n",
       " Text(0.4230769230769231, 0.8636363636363636, 'x[0] <= 2.521\\ngini = 0.458\\nsamples = 45\\nvalue = [16, 29]'),\n",
       " Text(0.34615384615384615, 0.7727272727272727, 'x[0] <= -0.659\\ngini = 0.414\\nsamples = 41\\nvalue = [12, 29]'),\n",
       " Text(0.19230769230769232, 0.6818181818181818, 'x[1] <= -2.903\\ngini = 0.375\\nsamples = 4\\nvalue = [3, 1]'),\n",
       " Text(0.11538461538461539, 0.5909090909090909, 'gini = 0.0\\nsamples = 1\\nvalue = [0, 1]'),\n",
       " Text(0.2692307692307692, 0.5909090909090909, 'gini = 0.0\\nsamples = 3\\nvalue = [3, 0]'),\n",
       " Text(0.5, 0.6818181818181818, 'x[1] <= 0.253\\ngini = 0.368\\nsamples = 37\\nvalue = [9, 28]'),\n",
       " Text(0.4230769230769231, 0.5909090909090909, 'x[1] <= 0.137\\ngini = 0.428\\nsamples = 29\\nvalue = [9, 20]'),\n",
       " Text(0.34615384615384615, 0.5, 'x[1] <= -1.254\\ngini = 0.384\\nsamples = 27\\nvalue = [7, 20]'),\n",
       " Text(0.2692307692307692, 0.4090909090909091, 'gini = 0.0\\nsamples = 7\\nvalue = [0, 7]'),\n",
       " Text(0.4230769230769231, 0.4090909090909091, 'x[1] <= -0.612\\ngini = 0.455\\nsamples = 20\\nvalue = [7, 13]'),\n",
       " Text(0.23076923076923078, 0.3181818181818182, 'x[1] <= -0.81\\ngini = 0.32\\nsamples = 5\\nvalue = [4, 1]'),\n",
       " Text(0.15384615384615385, 0.22727272727272727, 'x[0] <= 1.205\\ngini = 0.5\\nsamples = 2\\nvalue = [1, 1]'),\n",
       " Text(0.07692307692307693, 0.13636363636363635, 'gini = 0.0\\nsamples = 1\\nvalue = [0, 1]'),\n",
       " Text(0.23076923076923078, 0.13636363636363635, 'gini = 0.0\\nsamples = 1\\nvalue = [1, 0]'),\n",
       " Text(0.3076923076923077, 0.22727272727272727, 'gini = 0.0\\nsamples = 3\\nvalue = [3, 0]'),\n",
       " Text(0.6153846153846154, 0.3181818181818182, 'x[0] <= 0.4\\ngini = 0.32\\nsamples = 15\\nvalue = [3, 12]'),\n",
       " Text(0.46153846153846156, 0.22727272727272727, 'x[0] <= -0.145\\ngini = 0.5\\nsamples = 4\\nvalue = [2, 2]'),\n",
       " Text(0.38461538461538464, 0.13636363636363635, 'gini = 0.0\\nsamples = 2\\nvalue = [0, 2]'),\n",
       " Text(0.5384615384615384, 0.13636363636363635, 'gini = 0.0\\nsamples = 2\\nvalue = [2, 0]'),\n",
       " Text(0.7692307692307693, 0.22727272727272727, 'x[1] <= 0.047\\ngini = 0.165\\nsamples = 11\\nvalue = [1, 10]'),\n",
       " Text(0.6923076923076923, 0.13636363636363635, 'gini = 0.0\\nsamples = 9\\nvalue = [0, 9]'),\n",
       " Text(0.8461538461538461, 0.13636363636363635, 'x[0] <= 1.351\\ngini = 0.5\\nsamples = 2\\nvalue = [1, 1]'),\n",
       " Text(0.7692307692307693, 0.045454545454545456, 'gini = 0.0\\nsamples = 1\\nvalue = [1, 0]'),\n",
       " Text(0.9230769230769231, 0.045454545454545456, 'gini = 0.0\\nsamples = 1\\nvalue = [0, 1]'),\n",
       " Text(0.5, 0.5, 'gini = 0.0\\nsamples = 2\\nvalue = [2, 0]'),\n",
       " Text(0.5769230769230769, 0.5909090909090909, 'gini = 0.0\\nsamples = 8\\nvalue = [0, 8]'),\n",
       " Text(0.5, 0.7727272727272727, 'gini = 0.0\\nsamples = 4\\nvalue = [4, 0]'),\n",
       " Text(0.5769230769230769, 0.8636363636363636, 'gini = 0.0\\nsamples = 5\\nvalue = [5, 0]')]"
      ]
     },
     "execution_count": 19,
     "metadata": {},
     "output_type": "execute_result"
    },
    {
     "data": {
      "image/png": "[encoded data removed]",
      "text/plain": [
       "<Figure size 640x480 with 1 Axes>"
      ]
     },
     "metadata": {},
     "output_type": "display_data"
    }
   ],
   "source": [
    "plot_tree(clf2)"
   ]
  },
  {
   "cell_type": "code",
   "execution_count": 20,
   "id": "ee268d32",
   "metadata": {
    "execution": {
     "iopub.execute_input": "2025-08-06T10:45:25.246767Z",
     "iopub.status.busy": "2025-08-06T10:45:25.246438Z",
     "iopub.status.idle": "2025-08-06T10:45:25.928288Z",
     "shell.execute_reply": "2025-08-06T10:45:25.927405Z"
    },
    "papermill": {
     "duration": 0.692495,
     "end_time": "2025-08-06T10:45:25.929929",
     "exception": false,
     "start_time": "2025-08-06T10:45:25.237434",
     "status": "completed"
    },
    "tags": []
   },
   "outputs": [
    {
     "data": {
      "text/plain": [
       "[Text(0.5, 0.9285714285714286, 'x[1] <= -0.763\\ngini = 0.497\\nsamples = 50\\nvalue = [23, 27]'),\n",
       " Text(0.2727272727272727, 0.7857142857142857, 'x[0] <= -2.476\\ngini = 0.165\\nsamples = 22\\nvalue = [2, 20]'),\n",
       " Text(0.18181818181818182, 0.6428571428571429, 'x[0] <= -3.368\\ngini = 0.48\\nsamples = 5\\nvalue = [2, 3]'),\n",
       " Text(0.09090909090909091, 0.5, 'gini = 0.0\\nsamples = 3\\nvalue = [0, 3]'),\n",
       " Text(0.2727272727272727, 0.5, 'gini = 0.0\\nsamples = 2\\nvalue = [2, 0]'),\n",
       " Text(0.36363636363636365, 0.6428571428571429, 'gini = 0.0\\nsamples = 17\\nvalue = [0, 17]'),\n",
       " Text(0.7272727272727273, 0.7857142857142857, 'x[1] <= 0.939\\ngini = 0.375\\nsamples = 28\\nvalue = [21, 7]'),\n",
       " Text(0.6363636363636364, 0.6428571428571429, 'x[1] <= 0.506\\ngini = 0.465\\nsamples = 19\\nvalue = [12, 7]'),\n",
       " Text(0.45454545454545453, 0.5, 'x[1] <= -0.227\\ngini = 0.391\\nsamples = 15\\nvalue = [11, 4]'),\n",
       " Text(0.36363636363636365, 0.35714285714285715, 'x[0] <= -2.172\\ngini = 0.494\\nsamples = 9\\nvalue = [5, 4]'),\n",
       " Text(0.2727272727272727, 0.21428571428571427, 'gini = 0.0\\nsamples = 4\\nvalue = [4, 0]'),\n",
       " Text(0.45454545454545453, 0.21428571428571427, 'x[0] <= -0.695\\ngini = 0.32\\nsamples = 5\\nvalue = [1, 4]'),\n",
       " Text(0.36363636363636365, 0.07142857142857142, 'gini = 0.0\\nsamples = 4\\nvalue = [0, 4]'),\n",
       " Text(0.5454545454545454, 0.07142857142857142, 'gini = 0.0\\nsamples = 1\\nvalue = [1, 0]'),\n",
       " Text(0.5454545454545454, 0.35714285714285715, 'gini = 0.0\\nsamples = 6\\nvalue = [6, 0]'),\n",
       " Text(0.8181818181818182, 0.5, 'x[0] <= -0.809\\ngini = 0.375\\nsamples = 4\\nvalue = [1, 3]'),\n",
       " Text(0.7272727272727273, 0.35714285714285715, 'gini = 0.0\\nsamples = 3\\nvalue = [0, 3]'),\n",
       " Text(0.9090909090909091, 0.35714285714285715, 'gini = 0.0\\nsamples = 1\\nvalue = [1, 0]'),\n",
       " Text(0.8181818181818182, 0.6428571428571429, 'gini = 0.0\\nsamples = 9\\nvalue = [9, 0]')]"
      ]
     },
     "execution_count": 20,
     "metadata": {},
     "output_type": "execute_result"
    },
    {
     "data": {
      "image/png": "[encoded data removed]",
      "text/plain": [
       "<Figure size 640x480 with 1 Axes>"
      ]
     },
     "metadata": {},
     "output_type": "display_data"
    }
   ],
   "source": [
    "plot_tree(clf3)"
   ]
  },
  {
   "cell_type": "code",
   "execution_count": 21,
   "id": "ff825e89",
   "metadata": {
    "execution": {
     "iopub.execute_input": "2025-08-06T10:45:25.948174Z",
     "iopub.status.busy": "2025-08-06T10:45:25.947874Z",
     "iopub.status.idle": "2025-08-06T10:45:25.956757Z",
     "shell.execute_reply": "2025-08-06T10:45:25.955713Z"
    },
    "papermill": {
     "duration": 0.019695,
     "end_time": "2025-08-06T10:45:25.958269",
     "exception": false,
     "start_time": "2025-08-06T10:45:25.938574",
     "status": "completed"
    },
    "tags": []
   },
   "outputs": [
    {
     "name": "stderr",
     "output_type": "stream",
     "text": [
      "/usr/local/lib/python3.11/dist-packages/sklearn/base.py:439: UserWarning: X does not have valid feature names, but DecisionTreeClassifier was fitted with feature names\n",
      "  warnings.warn(\n"
     ]
    },
    {
     "data": {
      "text/plain": [
       "array([0])"
      ]
     },
     "execution_count": 21,
     "metadata": {},
     "output_type": "execute_result"
    }
   ],
   "source": [
    "clf1.predict(np.array([-1.042498,\t-0.064323]).reshape(1,2))"
   ]
  },
  {
   "cell_type": "code",
   "execution_count": 22,
   "id": "61a337f7",
   "metadata": {
    "execution": {
     "iopub.execute_input": "2025-08-06T10:45:25.976415Z",
     "iopub.status.busy": "2025-08-06T10:45:25.976056Z",
     "iopub.status.idle": "2025-08-06T10:45:25.983444Z",
     "shell.execute_reply": "2025-08-06T10:45:25.982398Z"
    },
    "papermill": {
     "duration": 0.018225,
     "end_time": "2025-08-06T10:45:25.984942",
     "exception": false,
     "start_time": "2025-08-06T10:45:25.966717",
     "status": "completed"
    },
    "tags": []
   },
   "outputs": [
    {
     "name": "stderr",
     "output_type": "stream",
     "text": [
      "/usr/local/lib/python3.11/dist-packages/sklearn/base.py:439: UserWarning: X does not have valid feature names, but DecisionTreeClassifier was fitted with feature names\n",
      "  warnings.warn(\n"
     ]
    },
    {
     "data": {
      "text/plain": [
       "array([0])"
      ]
     },
     "execution_count": 22,
     "metadata": {},
     "output_type": "execute_result"
    }
   ],
   "source": [
    "clf2.predict(np.array([-1.042498,\t-0.064323]).reshape(1,2))"
   ]
  },
  {
   "cell_type": "code",
   "execution_count": 23,
   "id": "22a41ede",
   "metadata": {
    "execution": {
     "iopub.execute_input": "2025-08-06T10:45:26.004272Z",
     "iopub.status.busy": "2025-08-06T10:45:26.003243Z",
     "iopub.status.idle": "2025-08-06T10:45:26.010648Z",
     "shell.execute_reply": "2025-08-06T10:45:26.009715Z"
    },
    "papermill": {
     "duration": 0.018665,
     "end_time": "2025-08-06T10:45:26.012071",
     "exception": false,
     "start_time": "2025-08-06T10:45:25.993406",
     "status": "completed"
    },
    "tags": []
   },
   "outputs": [
    {
     "name": "stderr",
     "output_type": "stream",
     "text": [
      "/usr/local/lib/python3.11/dist-packages/sklearn/base.py:439: UserWarning: X does not have valid feature names, but DecisionTreeClassifier was fitted with feature names\n",
      "  warnings.warn(\n"
     ]
    },
    {
     "data": {
      "text/plain": [
       "array([0])"
      ]
     },
     "execution_count": 23,
     "metadata": {},
     "output_type": "execute_result"
    }
   ],
   "source": [
    "clf3.predict(np.array([-1.042498,\t-0.064323]).reshape(1,2))"
   ]
  },
  {
   "cell_type": "markdown",
   "id": "b761b9ff",
   "metadata": {
    "papermill": {
     "duration": 0.009793,
     "end_time": "2025-08-06T10:45:26.031035",
     "exception": false,
     "start_time": "2025-08-06T10:45:26.021242",
     "status": "completed"
    },
    "tags": []
   },
   "source": [
    "# random-forest-demo"
   ]
  },
  {
   "cell_type": "code",
   "execution_count": null,
   "id": "9f4694a8",
   "metadata": {
    "papermill": {
     "duration": 0.008539,
     "end_time": "2025-08-06T10:45:26.048404",
     "exception": false,
     "start_time": "2025-08-06T10:45:26.039865",
     "status": "completed"
    },
    "tags": []
   },
   "outputs": [],
   "source": []
  },
  {
   "cell_type": "code",
   "execution_count": null,
   "id": "ea104174",
   "metadata": {
    "papermill": {
     "duration": 0.008838,
     "end_time": "2025-08-06T10:45:26.066378",
     "exception": false,
     "start_time": "2025-08-06T10:45:26.057540",
     "status": "completed"
    },
    "tags": []
   },
   "outputs": [],
   "source": []
  },
  {
   "cell_type": "code",
   "execution_count": null,
   "id": "58f18584",
   "metadata": {
    "papermill": {
     "duration": 0.008877,
     "end_time": "2025-08-06T10:45:26.084212",
     "exception": false,
     "start_time": "2025-08-06T10:45:26.075335",
     "status": "completed"
    },
    "tags": []
   },
   "outputs": [],
   "source": []
  },
  {
   "cell_type": "code",
   "execution_count": null,
   "id": "d25669ff",
   "metadata": {
    "papermill": {
     "duration": 0.009226,
     "end_time": "2025-08-06T10:45:26.102780",
     "exception": false,
     "start_time": "2025-08-06T10:45:26.093554",
     "status": "completed"
    },
    "tags": []
   },
   "outputs": [],
   "source": []
  }
 ],
 "metadata": {
  "kaggle": {
   "accelerator": "none",
   "dataSources": [],
   "dockerImageVersionId": 31089,
   "isGpuEnabled": false,
   "isInternetEnabled": false,
   "language": "python",
   "sourceType": "notebook"
  },
  "kernelspec": {
   "display_name": "Python 3",
   "language": "python",
   "name": "python3"
  },
  "language_info": {
   "codemirror_mode": {
    "name": "ipython",
    "version": 3
   },
   "file_extension": ".py",
   "mimetype": "text/x-python",
   "name": "python",
   "nbconvert_exporter": "python",
   "pygments_lexer": "ipython3",
   "version": "3.11.13"
  },
  "papermill": {
   "default_parameters": {},
   "duration": 13.642436,
   "end_time": "2025-08-06T10:45:26.833456",
   "environment_variables": {},
   "exception": null,
   "input_path": "__notebook__.ipynb",
   "output_path": "__notebook__.ipynb",
   "parameters": {},
   "start_time": "2025-08-06T10:45:13.191020",
   "version": "2.6.0"
  }
 },
 "nbformat": 4,
 "nbformat_minor": 5
}
